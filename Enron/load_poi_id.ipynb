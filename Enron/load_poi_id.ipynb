{
 "cells": [
  {
   "cell_type": "code",
   "execution_count": 1,
   "metadata": {},
   "outputs": [
    {
     "name": "stderr",
     "output_type": "stream",
     "text": [
      "C:\\Users\\qxq1985\\AppData\\Local\\Continuum\\Anaconda2\\lib\\site-packages\\sklearn\\cross_validation.py:44: DeprecationWarning: This module was deprecated in version 0.18 in favor of the model_selection module into which all the refactored classes and functions are moved. Also note that the interface of the new CV iterators are different from that of this module. This module will be removed in 0.20.\n",
      "  \"This module will be removed in 0.20.\", DeprecationWarning)\n"
     ]
    },
    {
     "data": {
      "image/png": "[encoded data removed]",
      "text/plain": [
       "<matplotlib.figure.Figure at 0x8c85160>"
      ]
     },
     "metadata": {},
     "output_type": "display_data"
    },
    {
     "name": "stdout",
     "output_type": "stream",
     "text": [
      "TOTAL\n"
     ]
    }
   ],
   "source": [
    "# %load poi_id.py\n",
    "#!/usr/bin/python\n",
    "\n",
    "import sys\n",
    "import pickle\n",
    "sys.path.append(\"../tools/\")\n",
    "\n",
    "from feature_format import featureFormat, targetFeatureSplit\n",
    "from tester import dump_classifier_and_data\n",
    "from tester import test_classifier\n",
    "\n",
    "### Task 1: Select what features you'll use.\n",
    "### features_list is a list of strings, each of which is a feature name.\n",
    "### The first feature must be \"poi\".\n",
    "features_list = ['poi','salary','bonus'] # You will need to use more features\n",
    "\n",
    "### Load the dictionary containing the dataset\n",
    "with open(\"final_project_dataset.pkl\", \"r\") as data_file:\n",
    "    data_dict = pickle.load(data_file)\n",
    "    \n",
    "### Task 2: Remove outliers\n",
    "import matplotlib.pyplot as plt\n",
    "data = featureFormat(data_dict, features_list)\n",
    "for point in data:\n",
    "    salary=point[1]\n",
    "    bonus=point[2]\n",
    "    plt.scatter(salary,bonus)\n",
    "    \n",
    "plt.xlabel(\"salary\")\n",
    "plt.ylabel(\"bonus\")\n",
    "plt.show()\n",
    "\n",
    "for key, value in data_dict.items():\n",
    "    if value['bonus'] == data.max():\n",
    "        print key\n",
    "       \n",
    "data_dict.pop(\"TOTAL\",0)\n",
    "\n",
    "### Task 3: Create new feature(s)\n",
    "for i in data_dict:\n",
    "    person = data_dict[i]\n",
    "    if (all([person['from_poi_to_this_person'] != 'NaN',person['from_this_person_to_poi'] != 'NaN',person['to_messages'] != 'NaN',person['from_messages'] != 'NaN'])):\n",
    "        fraction_from_poi = float(person[\"from_poi_to_this_person\"]) / float(person[\"to_messages\"])\n",
    "        person[\"fraction_from_poi\"] = fraction_from_poi\n",
    "        fraction_to_poi = float(person[\"from_this_person_to_poi\"]) / float(person[\"from_messages\"])\n",
    "        person[\"fraction_to_poi\"] = fraction_to_poi\n",
    "    else:\n",
    "        person[\"fraction_from_poi\"] = person[\"fraction_to_poi\"] = 0\n",
    "\n",
    "my_features_list = ['poi','salary','bonus','long_term_incentive','deferred_income','deferral_payments','total_payments','exercised_stock_options','restricted_stock','restricted_stock_deferred','total_stock_value','fraction_from_poi','fraction_to_poi']\n",
    "### Store to my_dataset for easy export below.\n",
    "my_dataset = data_dict\n",
    "\n",
    "### Extract features and labels from dataset for local testing\n",
    "data = featureFormat(my_dataset, my_features_list, sort_keys = True)\n",
    "labels, features = targetFeatureSplit(data)\n"
   ]
  },
  {
   "cell_type": "code",
   "execution_count": 3,
   "metadata": {},
   "outputs": [
    {
     "data": {
      "text/plain": [
       "list"
      ]
     },
     "execution_count": 3,
     "metadata": {},
     "output_type": "execute_result"
    }
   ],
   "source": [
    "type(labels)"
   ]
  },
  {
   "cell_type": "code",
   "execution_count": 4,
   "metadata": {},
   "outputs": [
    {
     "data": {
      "text/plain": [
       "144"
      ]
     },
     "execution_count": 4,
     "metadata": {},
     "output_type": "execute_result"
    }
   ],
   "source": [
    "len(labels)"
   ]
  },
  {
   "cell_type": "code",
   "execution_count": 6,
   "metadata": {},
   "outputs": [
    {
     "data": {
      "text/plain": [
       "18.0"
      ]
     },
     "execution_count": 6,
     "metadata": {},
     "output_type": "execute_result"
    }
   ],
   "source": [
    "sum(labels)"
   ]
  },
  {
   "cell_type": "code",
   "execution_count": 53,
   "metadata": {},
   "outputs": [
    {
     "data": {
      "image/png": "[encoded data removed]",
      "text/plain": [
       "<matplotlib.figure.Figure at 0xa02e710>"
      ]
     },
     "metadata": {},
     "output_type": "display_data"
    }
   ],
   "source": [
    "import matplotlib.pyplot as plt\n",
    "\n",
    "for point in data:\n",
    "    salary=point[1]\n",
    "    bonus=point[2]\n",
    "    plt.scatter(salary,bonus)\n",
    "    \n",
    "plt.xlabel(\"salary\")\n",
    "plt.ylabel(\"bonus\")\n",
    "plt.show()"
   ]
  },
  {
   "cell_type": "code",
   "execution_count": 13,
   "metadata": {},
   "outputs": [
    {
     "data": {
      "text/plain": [
       "array([  7.90181112e-01,   1.64856450e-01,   1.99246216e-02,\n",
       "         1.01101602e-02,   7.32937146e-03,   4.28014808e-03,\n",
       "         2.07746544e-03,   1.06996431e-03,   1.12390967e-04,\n",
       "         5.83165845e-05,   2.06153327e-16,   6.38784948e-18])"
      ]
     },
     "execution_count": 13,
     "metadata": {},
     "output_type": "execute_result"
    }
   ],
   "source": [
    "from sklearn.decomposition import PCA\n",
    "pca=PCA(n_components=None)\n",
    "pca.fit_transform(features)\n",
    "pca.explained_variance_ratio_\n",
    "#n=2"
   ]
  },
  {
   "cell_type": "code",
   "execution_count": 18,
   "metadata": {},
   "outputs": [
    {
     "data": {
      "text/plain": [
       "array([ 18.57570327,  21.06000171,  10.07245453,  11.59554766,\n",
       "         0.21705893,   8.86672154,  25.09754153,   9.34670079,\n",
       "         0.06498431,  24.46765405,   3.21076192,  16.64170707])"
      ]
     },
     "execution_count": 18,
     "metadata": {},
     "output_type": "execute_result"
    }
   ],
   "source": [
    "# from sklearn.feature_selection import SelectKBest\n",
    "# selector = SelectKBest(k='all').fit(features,labels)\n",
    "# selector.transform(features) \n",
    "# selector.scores_\n",
    "# #k=7\n",
    "# #salary,bonus,exercised_stock_options,total_stock_value,fraction_to_poi"
   ]
  },
  {
   "cell_type": "code",
   "execution_count": 54,
   "metadata": {},
   "outputs": [
    {
     "data": {
      "text/plain": [
       "array([[  1.15621931e+06,  -2.33683413e+06,   2.01955000e+05, ...,\n",
       "          1.72954100e+06,   1.72954100e+06,   2.96127563e-02],\n",
       "       [ -3.77764247e+06,  -1.17031325e+06,   0.00000000e+00, ...,\n",
       "          2.57817000e+05,   2.57817000e+05,   0.00000000e+00],\n",
       "       [  9.38193304e+05,   3.30837355e+06,   4.77000000e+02, ...,\n",
       "          4.04615700e+06,   5.24348700e+06,   0.00000000e+00],\n",
       "       ..., \n",
       "       [ -4.02276336e+06,  -1.18180838e+06,   0.00000000e+00, ...,\n",
       "          1.39130000e+05,   1.39130000e+05,   0.00000000e+00],\n",
       "       [  5.70188528e+06,   9.74719810e+06,   1.58403000e+05, ...,\n",
       "          8.30855200e+06,   1.18847580e+07,   0.00000000e+00],\n",
       "       [ -3.93372061e+06,  -1.15902877e+06,   0.00000000e+00, ...,\n",
       "          1.92758000e+05,   1.92758000e+05,   0.00000000e+00]])"
      ]
     },
     "execution_count": 54,
     "metadata": {},
     "output_type": "execute_result"
    }
   ],
   "source": [
    "from sklearn.pipeline import FeatureUnion\n",
    "from sklearn.decomposition import PCA\n",
    "from sklearn.feature_selection import SelectKBest\n",
    "\n",
    "pca = PCA(n_components=2)\n",
    "selector = SelectKBest(k=7)\n",
    "combined_features= FeatureUnion([(\"pca\", pca), (\"univ_select\", selector)])\n",
    "combined_features.fit(features,labels).transform(features)"
   ]
  },
  {
   "cell_type": "code",
   "execution_count": 55,
   "metadata": {},
   "outputs": [
    {
     "name": "stdout",
     "output_type": "stream",
     "text": [
      "Pipeline(steps=[('features', FeatureUnion(n_jobs=1,\n",
      "       transformer_list=[('pca', PCA(copy=True, iterated_power='auto', n_components=2, random_state=None,\n",
      "  svd_solver='auto', tol=0.0, whiten=False)), ('univ_select', SelectKBest(k=7, score_func=<function f_classif at 0x000000000A36A5F8>))],\n",
      "       transformer_weights=None)), ('clf', GaussianNB(priors=None))])\n",
      "\tAccuracy: 0.84840\tPrecision: 0.41046\tRecall: 0.31400\tF1: 0.35581\tF2: 0.32949\n",
      "\tTotal predictions: 15000\tTrue positives:  628\tFalse positives:  902\tFalse negatives: 1372\tTrue negatives: 12098\n",
      "\n"
     ]
    }
   ],
   "source": [
    "# Provided to give you a starting point. Try a variety of classifiers.\n",
    "from sklearn.naive_bayes import GaussianNB\n",
    "from sklearn.pipeline import Pipeline\n",
    "pipe_nb=Pipeline([(\"features\", combined_features),('clf',GaussianNB())])\n",
    "test_classifier(pipe_nb, my_dataset, my_features_list)"
   ]
  },
  {
   "cell_type": "code",
   "execution_count": 56,
   "metadata": {},
   "outputs": [
    {
     "name": "stdout",
     "output_type": "stream",
     "text": [
      "Pipeline(steps=[('sc', StandardScaler(copy=True, with_mean=True, with_std=True)), ('features', FeatureUnion(n_jobs=1,\n",
      "       transformer_list=[('pca', PCA(copy=True, iterated_power='auto', n_components=2, random_state=None,\n",
      "  svd_solver='auto', tol=0.0, whiten=False)), ('univ_select', SelectKBest(k=7, score_...ty='l2', random_state=None, solver='liblinear', tol=0.0001,\n",
      "          verbose=0, warm_start=False))])\n",
      "\tAccuracy: 0.85533\tPrecision: 0.40116\tRecall: 0.17250\tF1: 0.24126\tF2: 0.19470\n",
      "\tTotal predictions: 15000\tTrue positives:  345\tFalse positives:  515\tFalse negatives: 1655\tTrue negatives: 12485\n",
      "\n"
     ]
    }
   ],
   "source": [
    "from sklearn.linear_model import LogisticRegression\n",
    "pipe_lgr=Pipeline([('sc',StandardScaler()),(\"features\", combined_features),('clf',LogisticRegression())])\n",
    "test_classifier(pipe_lgr, my_dataset, my_features_list)"
   ]
  },
  {
   "cell_type": "code",
   "execution_count": 57,
   "metadata": {},
   "outputs": [
    {
     "name": "stdout",
     "output_type": "stream",
     "text": [
      "Pipeline(steps=[('features', FeatureUnion(n_jobs=1,\n",
      "       transformer_list=[('pca', PCA(copy=True, iterated_power='auto', n_components=2, random_state=None,\n",
      "  svd_solver='auto', tol=0.0, whiten=False)), ('univ_select', SelectKBest(k=7, score_func=<function f_classif at 0x000000000A36A5F8>))],\n",
      "       transfo...it=2, min_weight_fraction_leaf=0.0,\n",
      "            presort=False, random_state=None, splitter='best'))])\n",
      "\tAccuracy: 0.80480\tPrecision: 0.27671\tRecall: 0.28750\tF1: 0.28200\tF2: 0.28527\n",
      "\tTotal predictions: 15000\tTrue positives:  575\tFalse positives: 1503\tFalse negatives: 1425\tTrue negatives: 11497\n",
      "\n"
     ]
    }
   ],
   "source": [
    "from sklearn.tree import DecisionTreeClassifier\n",
    "from sklearn.preprocessing import StandardScaler\n",
    "tree = DecisionTreeClassifier()\n",
    "pipe_tree=Pipeline([(\"features\", combined_features),('clf',tree)])\n",
    "test_classifier(pipe_tree, my_dataset, my_features_list)"
   ]
  },
  {
   "cell_type": "code",
   "execution_count": 58,
   "metadata": {},
   "outputs": [
    {
     "name": "stdout",
     "output_type": "stream",
     "text": [
      "Pipeline(steps=[('features', FeatureUnion(n_jobs=1,\n",
      "       transformer_list=[('pca', PCA(copy=True, iterated_power='auto', n_components=2, random_state=None,\n",
      "  svd_solver='auto', tol=0.0, whiten=False)), ('univ_select', SelectKBest(k=7, score_func=<function f_classif at 0x000000000A36A5F8>))],\n",
      "       transfo...imators=10, n_jobs=1, oob_score=False, random_state=None,\n",
      "            verbose=0, warm_start=False))])\n",
      "\tAccuracy: 0.85327\tPrecision: 0.37262\tRecall: 0.14700\tF1: 0.21083\tF2: 0.16725\n",
      "\tTotal predictions: 15000\tTrue positives:  294\tFalse positives:  495\tFalse negatives: 1706\tTrue negatives: 12505\n",
      "\n"
     ]
    }
   ],
   "source": [
    "from sklearn.ensemble import RandomForestClassifier\n",
    "forest=RandomForestClassifier()\n",
    "pipe_rfc=Pipeline([(\"features\", combined_features),('clf',forest)])\n",
    "test_classifier(pipe_rfc, my_dataset, my_features_list)"
   ]
  },
  {
   "cell_type": "code",
   "execution_count": 59,
   "metadata": {},
   "outputs": [
    {
     "name": "stdout",
     "output_type": "stream",
     "text": [
      "Pipeline(steps=[('features', FeatureUnion(n_jobs=1,\n",
      "       transformer_list=[('pca', PCA(copy=True, iterated_power='auto', n_components=2, random_state=None,\n",
      "  svd_solver='auto', tol=0.0, whiten=False)), ('univ_select', SelectKBest(k=7, score_func=<function f_classif at 0x000000000A36A5F8>))],\n",
      "       transfo...=None,\n",
      "            verbose=0, warm_start=False))],\n",
      "         n_jobs=1, voting='hard', weights=None))])\n",
      "\tAccuracy: 0.84867\tPrecision: 0.37094\tRecall: 0.19400\tF1: 0.25476\tF2: 0.21446\n",
      "\tTotal predictions: 15000\tTrue positives:  388\tFalse positives:  658\tFalse negatives: 1612\tTrue negatives: 12342\n",
      "\n"
     ]
    }
   ],
   "source": [
    "from sklearn.ensemble import VotingClassifier\n",
    "clf1=GaussianNB()\n",
    "clf2=tree\n",
    "clf3=forest\n",
    "vc = VotingClassifier(estimators=[('gnb',clf1),('tr',clf2),('fr',clf3)])\n",
    "pipe_vc=Pipeline([(\"features\", combined_features),('clf',vc)])\n",
    "test_classifier(pipe_vc, my_dataset, my_features_list)"
   ]
  },
  {
   "cell_type": "code",
   "execution_count": 46,
   "metadata": {},
   "outputs": [
    {
     "data": {
      "text/plain": [
       "['features__transformer_list',\n",
       " 'features__pca__tol',\n",
       " 'features__univ_select__k',\n",
       " 'features',\n",
       " 'features__pca__copy',\n",
       " 'clf__priors',\n",
       " 'clf',\n",
       " 'features__pca__random_state',\n",
       " 'features__univ_select__score_func',\n",
       " 'features__univ_select',\n",
       " 'features__pca__svd_solver',\n",
       " 'steps',\n",
       " 'features__pca__whiten',\n",
       " 'features__transformer_weights',\n",
       " 'features__pca',\n",
       " 'features__pca__n_components',\n",
       " 'features__pca__iterated_power',\n",
       " 'features__n_jobs']"
      ]
     },
     "execution_count": 46,
     "metadata": {},
     "output_type": "execute_result"
    }
   ],
   "source": [
    "pipe_nb.get_params().keys()"
   ]
  },
  {
   "cell_type": "code",
   "execution_count": 60,
   "metadata": {},
   "outputs": [
    {
     "data": {
      "text/plain": [
       "GridSearchCV(cv=10, error_score='raise',\n",
       "       estimator=Pipeline(steps=[('features', FeatureUnion(n_jobs=1,\n",
       "       transformer_list=[('pca', PCA(copy=True, iterated_power='auto', n_components=2, random_state=None,\n",
       "  svd_solver='auto', tol=0.0, whiten=False)), ('univ_select', SelectKBest(k=7, score_func=<function f_classif at 0x000000000A36A5F8>))],\n",
       "       transformer_weights=None)), ('clf', GaussianNB(priors=None))]),\n",
       "       fit_params={}, iid=True, n_jobs=1,\n",
       "       param_grid=[{'features__univ_select__k': [1, 2, 3, 4, 5, 6, 7, 8, 9]}],\n",
       "       pre_dispatch='2*n_jobs', refit=True, scoring='f1', verbose=0)"
      ]
     },
     "execution_count": 60,
     "metadata": {},
     "output_type": "execute_result"
    }
   ],
   "source": [
    "param_grid=[{\"features__univ_select__k\":range(1,10)}]\n",
    "gs=GridSearchCV(estimator=pipe_nb,param_grid=param_grid,scoring=\"f1\",cv=10)\n",
    "gs.fit(features,labels)"
   ]
  },
  {
   "cell_type": "code",
   "execution_count": 61,
   "metadata": {},
   "outputs": [
    {
     "data": {
      "text/plain": [
       "{'features__univ_select__k': 9}"
      ]
     },
     "execution_count": 61,
     "metadata": {},
     "output_type": "execute_result"
    }
   ],
   "source": [
    "gs.best_params_"
   ]
  },
  {
   "cell_type": "code",
   "execution_count": 62,
   "metadata": {},
   "outputs": [
    {
     "name": "stdout",
     "output_type": "stream",
     "text": [
      "Pipeline(steps=[('features', FeatureUnion(n_jobs=1,\n",
      "       transformer_list=[('pca', PCA(copy=True, iterated_power='auto', n_components=2, random_state=None,\n",
      "  svd_solver='auto', tol=0.0, whiten=False)), ('univ_select', SelectKBest(k=9, score_func=<function f_classif at 0x000000000A36A5F8>))],\n",
      "       transformer_weights=None)), ('clf', GaussianNB(priors=None))])\n",
      "\tAccuracy: 0.85533\tPrecision: 0.45023\tRecall: 0.38450\tF1: 0.41478\tF2: 0.39607\n",
      "\tTotal predictions: 15000\tTrue positives:  769\tFalse positives:  939\tFalse negatives: 1231\tTrue negatives: 12061\n",
      "\n"
     ]
    }
   ],
   "source": [
    "combined_features= FeatureUnion([(\"pca\", PCA(n_components=2)), (\"univ_select\", SelectKBest(k=9))])\n",
    "combined_features.fit(features,labels).transform(features)\n",
    "pipe_nb_best=Pipeline([(\"features\", combined_features),('clf',GaussianNB())])\n",
    "test_classifier(pipe_nb_best, my_dataset, my_features_list)"
   ]
  },
  {
   "cell_type": "code",
   "execution_count": 63,
   "metadata": {},
   "outputs": [
    {
     "name": "stdout",
     "output_type": "stream",
     "text": [
      "{'clf__max_depth': 4, 'clf__min_samples_split': 9, 'features__univ_select__k': 1}\n"
     ]
    }
   ],
   "source": [
    "# pipe_tree.get_params().keys()\n",
    "\n",
    "param_grid=[{\"features__univ_select__k\":range(1,10),\"clf__max_depth\":range(1,10),\"clf__min_samples_split\":range(2,20,1)}]\n",
    "gs=GridSearchCV(estimator=pipe_tree,param_grid=param_grid,scoring=\"f1\",cv=10)\n",
    "gs.fit(features,labels)\n",
    "print gs.best_params_"
   ]
  },
  {
   "cell_type": "code",
   "execution_count": 64,
   "metadata": {},
   "outputs": [
    {
     "name": "stdout",
     "output_type": "stream",
     "text": [
      "Pipeline(steps=[('features', FeatureUnion(n_jobs=1,\n",
      "       transformer_list=[('pca', PCA(copy=True, iterated_power='auto', n_components=2, random_state=None,\n",
      "  svd_solver='auto', tol=0.0, whiten=False)), ('univ_select', SelectKBest(k=1, score_func=<function f_classif at 0x000000000A36A5F8>))],\n",
      "       transfo...it=9, min_weight_fraction_leaf=0.0,\n",
      "            presort=False, random_state=None, splitter='best'))])\n",
      "\tAccuracy: 0.85047\tPrecision: 0.41328\tRecall: 0.28950\tF1: 0.34049\tF2: 0.30795\n",
      "\tTotal predictions: 15000\tTrue positives:  579\tFalse positives:  822\tFalse negatives: 1421\tTrue negatives: 12178\n",
      "\n"
     ]
    }
   ],
   "source": [
    "combined_features= FeatureUnion([(\"pca\", PCA(n_components=2)), (\"univ_select\", SelectKBest(k=1))])\n",
    "combined_features.fit(features,labels).transform(features)\n",
    "tree_best = DecisionTreeClassifier(max_depth=4,min_samples_split=9)\n",
    "pipe_tree_best=Pipeline([(\"features\", combined_features),('clf',tree_best)])\n",
    "test_classifier(pipe_tree_best, my_dataset, my_features_list)"
   ]
  },
  {
   "cell_type": "code",
   "execution_count": 65,
   "metadata": {
    "collapsed": true
   },
   "outputs": [],
   "source": [
    "\n",
    "### Task 5: Tune your classifier to achieve better than .3 precision and recall\n",
    "### using our testing script. Check the tester.py script in the final project\n",
    "### folder for details on the evaluation method, especially the test_classifier\n",
    "### function. Because of the small size of the dataset, the script uses\n",
    "### stratified shuffle split cross validation. For more info: \n",
    "### http://scikit-learn.org/stable/modules/generated/sklearn.cross_validation.StratifiedShuffleSplit.html\n",
    "\n",
    "# Example starting point. Try investigating other evaluation techniques!\n",
    "# from sklearn.cross_validation import train_test_split\n",
    "# features_train, features_test, labels_train, labels_test = \\\n",
    "#      train_test_split(features, labels, test_size=0.3, random_state=42)\n",
    "\n",
    "# ### Task 6: Dump your classifier, dataset, and features_list so anyone can\n",
    "# ### check your results. You do not need to change anything below, but make sure\n",
    "# ### that the version of poi_id.py that you submit can be run on its own and\n",
    "# ### generates the necessary .pkl files for validating your results.\n",
    "\n",
    "dump_classifier_and_data(pipe_nb_best, my_dataset, my_features_list)"
   ]
  },
  {
   "cell_type": "code",
   "execution_count": null,
   "metadata": {
    "collapsed": true
   },
   "outputs": [],
   "source": []
  }
 ],
 "metadata": {
  "kernelspec": {
   "display_name": "Python 2",
   "language": "python",
   "name": "python2"
  },
  "language_info": {
   "codemirror_mode": {
    "name": "ipython",
    "version": 2
   },
   "file_extension": ".py",
   "mimetype": "text/x-python",
   "name": "python",
   "nbconvert_exporter": "python",
   "pygments_lexer": "ipython2",
   "version": "2.7.13"
  }
 },
 "nbformat": 4,
 "nbformat_minor": 2
}
